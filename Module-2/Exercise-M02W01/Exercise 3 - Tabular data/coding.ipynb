{
 "cells": [
  {
   "cell_type": "code",
   "execution_count": 2,
   "metadata": {},
   "outputs": [
    {
     "name": "stderr",
     "output_type": "stream",
     "text": [
      "UsageError: Line magic function `%matplotlib.inline` not found.\n"
     ]
    }
   ],
   "source": [
    "import pandas as pd\n",
    "import numpy as np\n",
    "import matplotlib.pyplot as plt\n",
    "%matplotlib.inline"
   ]
  },
  {
   "cell_type": "code",
   "execution_count": 3,
   "metadata": {},
   "outputs": [
    {
     "name": "stdout",
     "output_type": "stream",
     "text": [
      "Downloading...\n",
      "From: https://drive.google.com/uc?id=1iA0WmVfW88HyJvTBSQDI5vesf-pgKabq\n",
      "To: /home/minhtranh/works/AIO2024-MAIN/Module-2/Exercise-M02W01/Exercise 3 - Tabular data/advertising.csv\n",
      "100%|██████████████████████████████████████| 4.06k/4.06k [00:00<00:00, 4.60MB/s]\n"
     ]
    }
   ],
   "source": [
    "!gdown 1iA0WmVfW88HyJvTBSQDI5vesf-pgKabq\n",
    "\n",
    "df = pd.read_csv(\"./advertising.csv\")\n",
    "data = df.to_numpy()"
   ]
  },
  {
   "cell_type": "code",
   "execution_count": 7,
   "metadata": {},
   "outputs": [
    {
     "data": {
      "text/plain": [
       "[(296.4, 101), (49.6, 58), (114.0, 16), (27.0, 175)]"
      ]
     },
     "execution_count": 7,
     "metadata": {},
     "output_type": "execute_result"
    }
   ],
   "source": [
    "# Question 15: return max value and it's index for each column\n",
    "def max_value(data):\n",
    "    result = []\n",
    "    for i in range(data.shape[1]):\n",
    "        result.append((np.max(data[:, i]), np.argmax(data[:, i])))\n",
    "    return result \n",
    "result = max_value(data)\n",
    "result"
   ]
  },
  {
   "cell_type": "markdown",
   "metadata": {},
   "source": [
    "15c"
   ]
  },
  {
   "cell_type": "code",
   "execution_count": 8,
   "metadata": {},
   "outputs": [
    {
     "data": {
      "text/plain": [
       "[147.0425, 23.264000000000006, 30.553999999999995, 15.130500000000001]"
      ]
     },
     "execution_count": 8,
     "metadata": {},
     "output_type": "execute_result"
    }
   ],
   "source": [
    "# Question 16: calculate average for each column\n",
    "def average(data):\n",
    "    result = []\n",
    "    for i in range(data.shape[1]):\n",
    "        result.append(np.average(data[:, i]))\n",
    "    return result\n",
    "result = average(data)\n",
    "result"
   ]
  },
  {
   "cell_type": "markdown",
   "metadata": {},
   "source": [
    "16b"
   ]
  },
  {
   "cell_type": "code",
   "execution_count": 25,
   "metadata": {},
   "outputs": [
    {
     "data": {
      "text/plain": [
       "40"
      ]
     },
     "execution_count": 25,
     "metadata": {},
     "output_type": "execute_result"
    }
   ],
   "source": [
    "result = [i for i in data[:, 3] if i >= 20]\n",
    "len(result)"
   ]
  },
  {
   "cell_type": "markdown",
   "metadata": {},
   "source": [
    "17b"
   ]
  },
  {
   "cell_type": "code",
   "execution_count": 35,
   "metadata": {},
   "outputs": [
    {
     "data": {
      "text/plain": [
       "26.22293577981651"
      ]
     },
     "execution_count": 35,
     "metadata": {},
     "output_type": "execute_result"
    }
   ],
   "source": [
    "# Question 18: calculate the mean value of the last column where the corresponding value in the third column is greater than 15\n",
    "condition = [i for i in range(data.shape[0]) if data[i, 3] >= 15]\n",
    "result = np.mean(data[condition, 1])\n",
    "result"
   ]
  },
  {
   "cell_type": "markdown",
   "metadata": {},
   "source": [
    "18b"
   ]
  },
  {
   "cell_type": "code",
   "execution_count": 36,
   "metadata": {},
   "outputs": [
    {
     "data": {
      "text/plain": [
       "1405.1"
      ]
     },
     "execution_count": 36,
     "metadata": {},
     "output_type": "execute_result"
    }
   ],
   "source": [
    "newspaper_mean = np.mean(data[:, 2])\n",
    "filtered_data = data[data[:, 2] > newspaper_mean]\n",
    "sum_of_sales = np.sum(filtered_data[:, 3])\n",
    "sum_of_sales"
   ]
  },
  {
   "cell_type": "markdown",
   "metadata": {},
   "source": [
    "19c"
   ]
  },
  {
   "cell_type": "code",
   "execution_count": 39,
   "metadata": {},
   "outputs": [
    {
     "name": "stdout",
     "output_type": "stream",
     "text": [
      "['Bad', 'Bad', 'Good']\n"
     ]
    }
   ],
   "source": [
    "A = np.mean(data[:, 3])\n",
    "scores = []\n",
    "\n",
    "for i in range(data.shape[0]):\n",
    "    if data[i, 3] > A:\n",
    "        scores.append(\"Good\")\n",
    "    elif data[i, 3] == A:\n",
    "        scores.append(\"Average\")\n",
    "    else:\n",
    "        scores.append(\"Bad\")\n",
    "\n",
    "print(scores[7:10])"
   ]
  },
  {
   "cell_type": "markdown",
   "metadata": {},
   "source": [
    "20c"
   ]
  }
 ],
 "metadata": {
  "kernelspec": {
   "display_name": "aio2024",
   "language": "python",
   "name": "python3"
  },
  "language_info": {
   "codemirror_mode": {
    "name": "ipython",
    "version": 3
   },
   "file_extension": ".py",
   "mimetype": "text/x-python",
   "name": "python",
   "nbconvert_exporter": "python",
   "pygments_lexer": "ipython3",
   "version": "3.8.19"
  }
 },
 "nbformat": 4,
 "nbformat_minor": 2
}
