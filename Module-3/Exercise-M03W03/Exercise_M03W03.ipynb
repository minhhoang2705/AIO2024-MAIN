{
  "nbformat": 4,
  "nbformat_minor": 0,
  "metadata": {
    "colab": {
      "provenance": [],
      "gpuType": "T4"
    },
    "kernelspec": {
      "name": "python3",
      "display_name": "Python 3"
    },
    "language_info": {
      "name": "python"
    },
    "accelerator": "GPU"
  },
  "cells": [
    {
      "cell_type": "code",
      "source": [
        "import numpy as np\n",
        "\n",
        "def gini_impurity(y):\n",
        "  \"\"\"\n",
        "  Calculate the Gini impurity for a given set of labels.\n",
        "\n",
        "  Args:\n",
        "    y: A list or array of labels.\n",
        "\n",
        "  Returns:\n",
        "    The Gini impurity.\n",
        "  \"\"\"\n",
        "  m = len(y)\n",
        "  if m == 0:\n",
        "    return 0\n",
        "  counts = {}\n",
        "  for label in y:\n",
        "    if label not in counts:\n",
        "      counts[label] = 0\n",
        "    counts[label] += 1\n",
        "  impurity = 1\n",
        "  for label in counts:\n",
        "    p_i = counts[label] / m\n",
        "    impurity -= p_i ** 2\n",
        "  return impurity\n",
        "\n",
        "def cal_entropy(y):\n",
        "  \"\"\"\n",
        "  Calculate the entropy for a given set of labels.\n",
        "\n",
        "  Args:\n",
        "    y: A list or array of labels.\n",
        "\n",
        "  Returns:\n",
        "    The entropy.\n",
        "  \"\"\"\n",
        "  m = len(y)\n",
        "  _, counts = np.unique(y, return_counts=True)\n",
        "  probs = counts / m\n",
        "  entropy = -np.sum(probs * np.log2(probs))\n",
        "  return entropy\n",
        "\n",
        "\n",
        "labels = [1, 1, 0, 0, 0]\n",
        "\n",
        "print(f\"Gini impurity: {gini_impurity(labels)}\")\n",
        "print(f\"Entropy: {cal_entropy(labels):.4f}\")"
      ],
      "metadata": {
        "colab": {
          "base_uri": "https://localhost:8080/"
        },
        "id": "AqKACRQAqHNV",
        "outputId": "0c978918-185e-4880-b36b-c0d6d45beb5c"
      },
      "execution_count": 5,
      "outputs": [
        {
          "output_type": "stream",
          "name": "stdout",
          "text": [
            "Gini impurity: 0.48\n",
            "Entropy: 0.9710\n"
          ]
        }
      ]
    },
    {
      "cell_type": "code",
      "source": [
        "def weighted_entropy(subsets, total_samples):\n",
        "  weighted_entropy = 0\n",
        "  for subset in subsets:\n",
        "    subset_size = len(subset)\n",
        "    subset_entropy = cal_entropy(subset)\n",
        "    weighted_entropy += (subset_size / total_samples) * subset_entropy\n",
        "  return weighted_entropy\n",
        "\n",
        "def information_gain(total_entropy, subsets, total_samples):\n",
        "    gain = total_entropy - weighted_entropy(subsets, total_samples)\n",
        "    return gain\n",
        "\n",
        "data = [\n",
        "    [23, 0, 0, 0],\n",
        "    [25, 1, 1, 0],\n",
        "    [27, 1, 0, 1],\n",
        "    [29, 0, 1, 1],\n",
        "    [29, 0, 0, 0]\n",
        "]\n",
        "\n",
        "# Extract the target variable (Raise Salary)\n",
        "raise_salary = [row[3] for row in data]\n",
        "\n",
        "# Calculate entropy of the entire dataset\n",
        "total_entropy = cal_entropy(raise_salary)\n",
        "\n",
        "# Split based on 'Likes English'\n",
        "subset_0 = [row[3] for row in data if row[1] == 0]\n",
        "subset_1 = [row[3] for row in data if row[1] == 1]\n",
        "\n",
        "# Total number of samples\n",
        "total_samples = len(raise_salary)\n",
        "\n",
        "# Calculate Gain for 'Likes English'\n",
        "gain_likes_english = information_gain(total_entropy, [subset_0, subset_1], total_samples)\n",
        "\n",
        "# Output the result\n",
        "print(f\"Entropy of the entire dataset: {total_entropy:.4f}\")\n",
        "print(f\"Entropy of 'Likes English = 0' subset: {cal_entropy(subset_0):.4f}\")\n",
        "print(f\"Entropy of 'Likes English = 1' subset: {cal_entropy(subset_1):.4f}\")\n",
        "print(f\"Information Gain when splitting by 'Likes English': {gain_likes_english:.4f}\")"
      ],
      "metadata": {
        "colab": {
          "base_uri": "https://localhost:8080/"
        },
        "id": "9Q6ac9GYr3tB",
        "outputId": "be51f398-7b25-41a3-eb8e-40c12a35a54e"
      },
      "execution_count": 8,
      "outputs": [
        {
          "output_type": "stream",
          "name": "stdout",
          "text": [
            "Entropy of the entire dataset: 0.9710\n",
            "Entropy of 'Likes English = 0' subset: 0.9183\n",
            "Entropy of 'Likes English = 1' subset: 1.0000\n",
            "Information Gain when splitting by 'Likes English': 0.0200\n"
          ]
        }
      ]
    },
    {
      "cell_type": "code",
      "source": [
        "import numpy as np\n",
        "\n",
        "ages = np.array([23, 25, 27, 29, 29])\n",
        "likes_english = np.array([0, 1, 1, 0, 0])\n",
        "likes_ai = np.array([0, 1, 0, 1, 0])\n",
        "salaries = np.array([200, 400, 300, 500, 400])\n",
        "\n",
        "def cal_sse(data, mean):\n",
        "    return np.sum((data - mean) ** 2)\n",
        "\n",
        "# SSE when 'Likes AI' is the root node\n",
        "likes_ai_0 = salaries[likes_ai == 0]\n",
        "likes_ai_1 = salaries[likes_ai == 1]\n",
        "\n",
        "mean_likes_ai_0 = np.mean(likes_ai_0)\n",
        "mean_likes_ai_1 = np.mean(likes_ai_1)\n",
        "\n",
        "sse_likes_ai_0 = cal_sse(likes_ai_0, mean_likes_ai_0)\n",
        "sse_likes_ai_1 = cal_sse(likes_ai_1, mean_likes_ai_1)\n",
        "\n",
        "total_sse_likes_ai = sse_likes_ai_0 + sse_likes_ai_1\n",
        "print(f\"SSE when 'Likes AI' is the root node: {total_sse_likes_ai}\")\n",
        "\n",
        "# SSE when 'Age' is the root node with condition 'Age <= 24'\n",
        "age_24 = salaries[ages <= 24]\n",
        "age_above_24 = salaries[ages > 24]\n",
        "\n",
        "mean_age_24 = np.mean(age_24)\n",
        "mean_age_above_24 = np.mean(age_above_24)\n",
        "\n",
        "sse_age_24 = cal_sse(age_24, mean_age_24)\n",
        "sse_age_above_24 = cal_sse(age_above_24, mean_age_above_24)\n",
        "\n",
        "total_sse_age = sse_age_24 + sse_age_above_24\n",
        "print(f\"SSE when 'Age <= 24' is the root node: {total_sse_age}\")"
      ],
      "metadata": {
        "colab": {
          "base_uri": "https://localhost:8080/"
        },
        "id": "OqJzEHkut_Vh",
        "outputId": "9bf6cb4e-bc4b-41af-cb5c-ca95f2f2dfe3"
      },
      "execution_count": 9,
      "outputs": [
        {
          "output_type": "stream",
          "name": "stdout",
          "text": [
            "SSE when 'Likes AI' is the root node: 25000.0\n",
            "SSE when 'Age <= 24' is the root node: 20000.0\n"
          ]
        }
      ]
    }
  ]
}