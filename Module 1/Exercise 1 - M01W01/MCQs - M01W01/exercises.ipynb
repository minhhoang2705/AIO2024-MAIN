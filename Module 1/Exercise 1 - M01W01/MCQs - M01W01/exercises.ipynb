{
 "cells": [
  {
   "cell_type": "markdown",
   "metadata": {},
   "source": [
    "### Question 1"
   ]
  },
  {
   "cell_type": "code",
   "execution_count": 4,
   "metadata": {},
   "outputs": [
    {
     "name": "stdout",
     "output_type": "stream",
     "text": [
      "0.31\n"
     ]
    }
   ],
   "source": [
    "def calc_f1_score(tp, fp, fn):\n",
    "    # check each input is an integer\n",
    "    if not isinstance(tp, int):\n",
    "        raise TypeError(\"tp must be an integer\")\n",
    "    if not isinstance(fp, int):\n",
    "        raise TypeError(\"fp must be an integer\")\n",
    "    if not isinstance(fn, int):\n",
    "        raise TypeError(\"fn must be an integer\")\n",
    "\n",
    "    # check each input is non-negative\n",
    "    if tp < 0 or fp < 0 or fn < 0:\n",
    "        print(\"Inputs must be non-negative\")\n",
    "        return\n",
    "\n",
    "    # check each input is non-zero\n",
    "    if tp == 0 and fp == 0 and fn == 0:\n",
    "        print(\"Inputs must be non-zero\")\n",
    "        return\n",
    "\n",
    "    precision = tp / (tp + fp)\n",
    "    recall = tp / (tp + fn)\n",
    "    f1 = 2 * (precision * recall) / (precision + recall)\n",
    "    return f1\n",
    "\n",
    "assert round(calc_f1_score(2, 3, 5), 2) == 0.33\n",
    "print(round(calc_f1_score(2, 4, 5), 2))"
   ]
  },
  {
   "cell_type": "markdown",
   "metadata": {},
   "source": [
    "### Question 2"
   ]
  },
  {
   "cell_type": "code",
   "execution_count": 8,
   "metadata": {},
   "outputs": [
    {
     "name": "stdout",
     "output_type": "stream",
     "text": [
      "True\n",
      "False\n"
     ]
    }
   ],
   "source": [
    "import math\n",
    "\n",
    "def is_number(num):\n",
    "    # check if num is a number\n",
    "    try:\n",
    "        float(num)\n",
    "    except ValueError:\n",
    "        return False\n",
    "    return True\n",
    "\n",
    "assert is_number(3) == 1.0\n",
    "assert is_number(\"-2a\") == 0.0\n",
    "\n",
    "print(is_number(1))\n",
    "print(is_number(\"n\"))"
   ]
  },
  {
   "cell_type": "markdown",
   "metadata": {},
   "source": [
    "### Question 3"
   ]
  },
  {
   "cell_type": "code",
   "execution_count": 9,
   "metadata": {},
   "outputs": [
    {
     "name": "stdout",
     "output_type": "stream",
     "text": [
      "2\n"
     ]
    }
   ],
   "source": [
    "x = 2 \n",
    "if x <= 0:\n",
    "    y = 0.0\n",
    "else:\n",
    "    y = x\n",
    "\n",
    "print(y)\n"
   ]
  },
  {
   "cell_type": "markdown",
   "metadata": {},
   "source": [
    "### Question 4"
   ]
  },
  {
   "cell_type": "code",
   "execution_count": 10,
   "metadata": {},
   "outputs": [
    {
     "name": "stdout",
     "output_type": "stream",
     "text": [
      "0.88\n"
     ]
    }
   ],
   "source": [
    "def calc_sigmoid(x):\n",
    "    return 1 / (1 + math.exp(-x))\n",
    "\n",
    "assert round(calc_sigmoid(3), 2) == 0.95\n",
    "\n",
    "print(round(calc_sigmoid(2), 2))"
   ]
  },
  {
   "cell_type": "markdown",
   "metadata": {},
   "source": [
    "### Question 5"
   ]
  },
  {
   "cell_type": "code",
   "execution_count": 12,
   "metadata": {},
   "outputs": [
    {
     "name": "stdout",
     "output_type": "stream",
     "text": [
      "-0.01\n"
     ]
    }
   ],
   "source": [
    "def calc_elu(x: float, alpha=0.01):\n",
    "    if x > 0:\n",
    "        return x\n",
    "    else:\n",
    "        return alpha * (math.exp(x) - 1)\n",
    "    \n",
    "assert round(calc_elu(1)) == 1\n",
    "print(round(calc_elu(-1), 2))"
   ]
  },
  {
   "cell_type": "markdown",
   "metadata": {},
   "source": [
    "### Question 6"
   ]
  },
  {
   "cell_type": "code",
   "execution_count": 13,
   "metadata": {},
   "outputs": [
    {
     "name": "stdout",
     "output_type": "stream",
     "text": [
      "0.95\n"
     ]
    }
   ],
   "source": [
    "import math\n",
    "\n",
    "def calc_activation_func(x, act_name):\n",
    "    match act_name:\n",
    "        case \"sigmoid\":\n",
    "            return 1 / (1 + math.exp(-x))\n",
    "        case \"relu\":\n",
    "            return max(x, 0)\n",
    "        case \"elu\":\n",
    "            return max(0, x) if x > 0 else math.exp(x) - 1\n",
    "        case _:\n",
    "            return \"Invalid activation function\"\n",
    "\n",
    "assert calc_activation_func(x=1, act_name=\"relu\") == 1\n",
    "print(round(calc_activation_func(x = 3, act_name='sigmoid'), 2))"
   ]
  },
  {
   "cell_type": "markdown",
   "metadata": {},
   "source": [
    "### Question 7\n"
   ]
  },
  {
   "cell_type": "code",
   "execution_count": 14,
   "metadata": {},
   "outputs": [
    {
     "name": "stdout",
     "output_type": "stream",
     "text": [
      "7\n"
     ]
    }
   ],
   "source": [
    "def calc_ae(y, yhat):\n",
    "    return abs(y - yhat)\n",
    "\n",
    "y = 1 \n",
    "yhat = 6\n",
    "assert calc_ae(y, yhat) == 5\n",
    "y = 2\n",
    "yhat = 9\n",
    "print(calc_ae(y, yhat))"
   ]
  },
  {
   "cell_type": "markdown",
   "metadata": {},
   "source": [
    "### Question 8"
   ]
  },
  {
   "cell_type": "code",
   "execution_count": 16,
   "metadata": {},
   "outputs": [
    {
     "name": "stdout",
     "output_type": "stream",
     "text": [
      "1\n"
     ]
    }
   ],
   "source": [
    "def calc_se(y, yhat):\n",
    "    return (y - yhat) ** 2\n",
    "\n",
    "print(calc_se(2, 1))"
   ]
  },
  {
   "cell_type": "markdown",
   "metadata": {},
   "source": [
    "### Question 9, 10, 11, 12"
   ]
  },
  {
   "cell_type": "code",
   "execution_count": 17,
   "metadata": {},
   "outputs": [],
   "source": [
    "def approx_sin(x, n):\n",
    "    \"\"\"\n",
    "    x: radian\n",
    "    n: number of terms (n > 0)\n",
    "    \"\"\"\n",
    "    result = 0\n",
    "    for i in range(n):\n",
    "        result += (-1) ** i * x ** (2 * i + 1) / math.factorial(2 * i + 1)\n",
    "    return result\n",
    "\n",
    "def approx_cos(x, n):\n",
    "    \"\"\"\n",
    "    x: radian\n",
    "    n: number of terms (n > 0)\n",
    "    \"\"\"\n",
    "    result = 0\n",
    "    for i in range(n):\n",
    "        result += (-1) ** i * x ** (2 * i) / math.factorial(2 * i)\n",
    "    return result\n",
    "\n",
    "def approx_sinh(x, n):\n",
    "    \"\"\"\n",
    "    x: radian\n",
    "    n: number of terms (n > 0)\n",
    "    \"\"\"\n",
    "    result = 0\n",
    "    for i in range(n):\n",
    "        result += x ** (2 * i + 1) / math.factorial(2 * i + 1)\n",
    "    return result\n",
    "\n",
    "def approx_cosh(x, n):\n",
    "    \"\"\"\n",
    "    x: radian\n",
    "    n: number of terms (n > 0)\n",
    "    \"\"\"\n",
    "    result = 0\n",
    "    for i in range(n):\n",
    "        result += x ** (2 * i) / math.factorial(2 * i)\n",
    "    return result"
   ]
  },
  {
   "cell_type": "code",
   "execution_count": 19,
   "metadata": {},
   "outputs": [
    {
     "name": "stdout",
     "output_type": "stream",
     "text": [
      "0.0016\n",
      "-1.0\n",
      "11.53\n",
      "11.57\n"
     ]
    }
   ],
   "source": [
    "print(round(approx_sin(3.14, 10), 4))\n",
    "print(round(approx_cos(3.14, 10), 2))\n",
    "print(round(approx_sinh(3.14, 10), 2))\n",
    "print(round(approx_cosh(3.14, 10), 2))"
   ]
  },
  {
   "cell_type": "code",
   "execution_count": null,
   "metadata": {},
   "outputs": [],
   "source": []
  }
 ],
 "metadata": {
  "kernelspec": {
   "display_name": "Python 3",
   "language": "python",
   "name": "python3"
  },
  "language_info": {
   "codemirror_mode": {
    "name": "ipython",
    "version": 3
   },
   "file_extension": ".py",
   "mimetype": "text/x-python",
   "name": "python",
   "nbconvert_exporter": "python",
   "pygments_lexer": "ipython3",
   "version": "3.10.12"
  }
 },
 "nbformat": 4,
 "nbformat_minor": 2
}
